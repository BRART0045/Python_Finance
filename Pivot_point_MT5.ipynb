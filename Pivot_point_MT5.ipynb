{
 "cells": [
  {
   "cell_type": "code",
   "execution_count": 4,
   "metadata": {},
   "outputs": [
    {
     "name": "stdout",
     "output_type": "stream",
     "text": [
      "Collecting pandas_datareader\n",
      "  Downloading pandas_datareader-0.10.0-py3-none-any.whl (109 kB)\n",
      "     ------------------------------------ 109.5/109.5 kB 632.0 kB/s eta 0:00:00\n",
      "Requirement already satisfied: requests>=2.19.0 in c:\\users\\teste\\anaconda3\\lib\\site-packages (from pandas_datareader) (2.28.1)\n",
      "Requirement already satisfied: lxml in c:\\users\\teste\\anaconda3\\lib\\site-packages (from pandas_datareader) (4.9.1)\n",
      "Requirement already satisfied: pandas>=0.23 in c:\\users\\teste\\anaconda3\\lib\\site-packages (from pandas_datareader) (1.5.3)\n",
      "Requirement already satisfied: numpy>=1.21.0 in c:\\users\\teste\\anaconda3\\lib\\site-packages (from pandas>=0.23->pandas_datareader) (1.23.5)\n",
      "Requirement already satisfied: python-dateutil>=2.8.1 in c:\\users\\teste\\anaconda3\\lib\\site-packages (from pandas>=0.23->pandas_datareader) (2.8.2)\n",
      "Requirement already satisfied: pytz>=2020.1 in c:\\users\\teste\\anaconda3\\lib\\site-packages (from pandas>=0.23->pandas_datareader) (2022.7)\n",
      "Requirement already satisfied: certifi>=2017.4.17 in c:\\users\\teste\\anaconda3\\lib\\site-packages (from requests>=2.19.0->pandas_datareader) (2022.12.7)\n",
      "Requirement already satisfied: charset-normalizer<3,>=2 in c:\\users\\teste\\anaconda3\\lib\\site-packages (from requests>=2.19.0->pandas_datareader) (2.0.4)\n",
      "Requirement already satisfied: idna<4,>=2.5 in c:\\users\\teste\\anaconda3\\lib\\site-packages (from requests>=2.19.0->pandas_datareader) (3.4)\n",
      "Requirement already satisfied: urllib3<1.27,>=1.21.1 in c:\\users\\teste\\anaconda3\\lib\\site-packages (from requests>=2.19.0->pandas_datareader) (1.26.14)\n",
      "Requirement already satisfied: six>=1.5 in c:\\users\\teste\\anaconda3\\lib\\site-packages (from python-dateutil>=2.8.1->pandas>=0.23->pandas_datareader) (1.16.0)\n",
      "Installing collected packages: pandas_datareader\n",
      "Successfully installed pandas_datareader-0.10.0\n"
     ]
    }
   ],
   "source": [
    "#pip install metatrader5\n",
    "!pip install pandas_datareader"
   ]
  },
  {
   "cell_type": "markdown",
   "metadata": {},
   "source": [
    "# Criando Robô Pivot point "
   ]
  },
  {
   "cell_type": "code",
   "execution_count": 5,
   "metadata": {},
   "outputs": [],
   "source": [
    "import MetaTrader5 as mt5\n",
    "from datetime import datetime\n",
    "import time\n",
    "import pandas as pd\n",
    "from pandas_datareader import data as pdr\n",
    "import numpy as np\n",
    "import matplotlib.pyplot as plt\n",
    "%matplotlib inline\n"
   ]
  },
  {
   "cell_type": "code",
   "execution_count": 6,
   "metadata": {},
   "outputs": [],
   "source": [
    "# estabelecemos a conexão ao MetaTrader 5\n",
    "# conecte-se ao MetaTrader 5\n",
    "if not mt5.initialize():\n",
    "    print(\"initialize() Falha ao Iniciar seu metra Trade 5\")\n",
    "    mt5.shutdown()"
   ]
  },
  {
   "cell_type": "code",
   "execution_count": 7,
   "metadata": {},
   "outputs": [],
   "source": [
    "### Obtendo valores de ativos\n",
    "#tenho que fazer uma estrutura de repecticao  para ficar gemrado os pontos de entrar e saida\n",
    "def get_ohlc(ativo, timeframe, n=5):\n",
    "    ativo = mt5.copy_rates_from_pos(ativo,timeframe, 0, n)\n",
    "    ativo = pd.DataFrame(ativo)\n",
    "    ativo['time'] = pd.to_datetime(ativo['time'], unit='s')\n",
    "    ativo['Pivot'] = (ativo['high'] + ativo['low'] + ativo['close'])/3\n",
    "    ativo['R1'] = 2*ativo['Pivot'] - ativo['low']\n",
    "    ativo['S1'] = 2*ativo['Pivot'] - ativo['high']\n",
    "    ativo['R2'] = ativo['Pivot'] + (ativo['high'] - ativo['low'])\n",
    "    ativo['S2'] = ativo['Pivot'] - (ativo['high'] - ativo['low'])\n",
    "    ativo['R3'] = ativo['Pivot'] + 2*(ativo['high'] - ativo['low'])\n",
    "    ativo['S3'] = ativo['Pivot'] - 2*(ativo['high'] - ativo['low'])\n",
    "\n",
    "    \n",
    "    ativo.set_index('time', inplace = True)\n",
    "    return ativo"
   ]
  },
  {
   "cell_type": "code",
   "execution_count": 8,
   "metadata": {},
   "outputs": [],
   "source": [
    "ativo = (get_ohlc('ITUB4', mt5.TIMEFRAME_M5))"
   ]
  },
  {
   "cell_type": "code",
   "execution_count": 9,
   "metadata": {},
   "outputs": [
    {
     "data": {
      "text/html": [
       "<div>\n",
       "<style scoped>\n",
       "    .dataframe tbody tr th:only-of-type {\n",
       "        vertical-align: middle;\n",
       "    }\n",
       "\n",
       "    .dataframe tbody tr th {\n",
       "        vertical-align: top;\n",
       "    }\n",
       "\n",
       "    .dataframe thead th {\n",
       "        text-align: right;\n",
       "    }\n",
       "</style>\n",
       "<table border=\"1\" class=\"dataframe\">\n",
       "  <thead>\n",
       "    <tr style=\"text-align: right;\">\n",
       "      <th></th>\n",
       "      <th>open</th>\n",
       "      <th>high</th>\n",
       "      <th>low</th>\n",
       "      <th>close</th>\n",
       "      <th>tick_volume</th>\n",
       "      <th>spread</th>\n",
       "      <th>real_volume</th>\n",
       "      <th>Pivot</th>\n",
       "      <th>R1</th>\n",
       "      <th>S1</th>\n",
       "      <th>R2</th>\n",
       "      <th>S2</th>\n",
       "      <th>R3</th>\n",
       "      <th>S3</th>\n",
       "    </tr>\n",
       "    <tr>\n",
       "      <th>time</th>\n",
       "      <th></th>\n",
       "      <th></th>\n",
       "      <th></th>\n",
       "      <th></th>\n",
       "      <th></th>\n",
       "      <th></th>\n",
       "      <th></th>\n",
       "      <th></th>\n",
       "      <th></th>\n",
       "      <th></th>\n",
       "      <th></th>\n",
       "      <th></th>\n",
       "      <th></th>\n",
       "      <th></th>\n",
       "    </tr>\n",
       "  </thead>\n",
       "  <tbody>\n",
       "    <tr>\n",
       "      <th>2023-05-09 11:50:00</th>\n",
       "      <td>26.55</td>\n",
       "      <td>26.55</td>\n",
       "      <td>26.49</td>\n",
       "      <td>26.53</td>\n",
       "      <td>619</td>\n",
       "      <td>1</td>\n",
       "      <td>207000</td>\n",
       "      <td>26.523333</td>\n",
       "      <td>26.556667</td>\n",
       "      <td>26.496667</td>\n",
       "      <td>26.583333</td>\n",
       "      <td>26.463333</td>\n",
       "      <td>26.643333</td>\n",
       "      <td>26.403333</td>\n",
       "    </tr>\n",
       "    <tr>\n",
       "      <th>2023-05-09 11:55:00</th>\n",
       "      <td>26.52</td>\n",
       "      <td>26.54</td>\n",
       "      <td>26.52</td>\n",
       "      <td>26.52</td>\n",
       "      <td>134</td>\n",
       "      <td>1</td>\n",
       "      <td>34200</td>\n",
       "      <td>26.526667</td>\n",
       "      <td>26.533333</td>\n",
       "      <td>26.513333</td>\n",
       "      <td>26.546667</td>\n",
       "      <td>26.506667</td>\n",
       "      <td>26.566667</td>\n",
       "      <td>26.486667</td>\n",
       "    </tr>\n",
       "    <tr>\n",
       "      <th>2023-05-09 12:00:00</th>\n",
       "      <td>26.53</td>\n",
       "      <td>26.60</td>\n",
       "      <td>26.52</td>\n",
       "      <td>26.58</td>\n",
       "      <td>1092</td>\n",
       "      <td>1</td>\n",
       "      <td>337100</td>\n",
       "      <td>26.566667</td>\n",
       "      <td>26.613333</td>\n",
       "      <td>26.533333</td>\n",
       "      <td>26.646667</td>\n",
       "      <td>26.486667</td>\n",
       "      <td>26.726667</td>\n",
       "      <td>26.406667</td>\n",
       "    </tr>\n",
       "    <tr>\n",
       "      <th>2023-05-09 12:05:00</th>\n",
       "      <td>26.59</td>\n",
       "      <td>26.67</td>\n",
       "      <td>26.57</td>\n",
       "      <td>26.65</td>\n",
       "      <td>62</td>\n",
       "      <td>1</td>\n",
       "      <td>13900</td>\n",
       "      <td>26.630000</td>\n",
       "      <td>26.690000</td>\n",
       "      <td>26.590000</td>\n",
       "      <td>26.730000</td>\n",
       "      <td>26.530000</td>\n",
       "      <td>26.830000</td>\n",
       "      <td>26.430000</td>\n",
       "    </tr>\n",
       "    <tr>\n",
       "      <th>2023-05-09 12:10:00</th>\n",
       "      <td>26.65</td>\n",
       "      <td>26.70</td>\n",
       "      <td>26.65</td>\n",
       "      <td>26.70</td>\n",
       "      <td>2306</td>\n",
       "      <td>1</td>\n",
       "      <td>1334600</td>\n",
       "      <td>26.683333</td>\n",
       "      <td>26.716667</td>\n",
       "      <td>26.666667</td>\n",
       "      <td>26.733333</td>\n",
       "      <td>26.633333</td>\n",
       "      <td>26.783333</td>\n",
       "      <td>26.583333</td>\n",
       "    </tr>\n",
       "  </tbody>\n",
       "</table>\n",
       "</div>"
      ],
      "text/plain": [
       "                      open   high    low  close  tick_volume  spread  \\\n",
       "time                                                                   \n",
       "2023-05-09 11:50:00  26.55  26.55  26.49  26.53          619       1   \n",
       "2023-05-09 11:55:00  26.52  26.54  26.52  26.52          134       1   \n",
       "2023-05-09 12:00:00  26.53  26.60  26.52  26.58         1092       1   \n",
       "2023-05-09 12:05:00  26.59  26.67  26.57  26.65           62       1   \n",
       "2023-05-09 12:10:00  26.65  26.70  26.65  26.70         2306       1   \n",
       "\n",
       "                     real_volume      Pivot         R1         S1         R2  \\\n",
       "time                                                                           \n",
       "2023-05-09 11:50:00       207000  26.523333  26.556667  26.496667  26.583333   \n",
       "2023-05-09 11:55:00        34200  26.526667  26.533333  26.513333  26.546667   \n",
       "2023-05-09 12:00:00       337100  26.566667  26.613333  26.533333  26.646667   \n",
       "2023-05-09 12:05:00        13900  26.630000  26.690000  26.590000  26.730000   \n",
       "2023-05-09 12:10:00      1334600  26.683333  26.716667  26.666667  26.733333   \n",
       "\n",
       "                            S2         R3         S3  \n",
       "time                                                  \n",
       "2023-05-09 11:50:00  26.463333  26.643333  26.403333  \n",
       "2023-05-09 11:55:00  26.506667  26.566667  26.486667  \n",
       "2023-05-09 12:00:00  26.486667  26.726667  26.406667  \n",
       "2023-05-09 12:05:00  26.530000  26.830000  26.430000  \n",
       "2023-05-09 12:10:00  26.633333  26.783333  26.583333  "
      ]
     },
     "execution_count": 9,
     "metadata": {},
     "output_type": "execute_result"
    }
   ],
   "source": [
    "#verifica se está calculando \n",
    "ativo"
   ]
  },
  {
   "cell_type": "markdown",
   "metadata": {},
   "source": [
    "### preparando a orden"
   ]
  },
  {
   "cell_type": "code",
   "execution_count": 53,
   "metadata": {},
   "outputs": [],
   "source": [
    "#testando se o ativo é valido \n",
    "symbol = 'ITUB4'\n",
    "symbol_info = mt5.symbol_info(symbol)\n",
    "if symbol_info is None:\n",
    "    print(symbol, \"Não encontrato\")\n",
    "    mt5.shutdown()\n",
    "    quit()"
   ]
  },
  {
   "cell_type": "code",
   "execution_count": 54,
   "metadata": {},
   "outputs": [],
   "source": [
    "#adicionado symbol se nao existir\n",
    "if not symbol_info.visible:\n",
    "    print('Symbol Não visivel, tentnado adicionar')\n",
    "    if not mt5.symbol_select(symbol,True):\n",
    "        print('symbol_select({{}})failed, exit', symbol)\n",
    "        mt5.shutdown()\n",
    "        quit()"
   ]
  },
  {
   "cell_type": "code",
   "execution_count": 55,
   "metadata": {},
   "outputs": [],
   "source": [
    "#preparando a ordem compra request  e ordem de venda\n",
    "\n",
    "#########################################################\n",
    "#preparando a ordem \n",
    "lot = 1.0\n",
    "point = mt5.symbol_info(symbol).point\n",
    "price = mt5.symbol_info_tick(symbol).ask\n",
    "desviation = 1\n",
    "request = {\n",
    "    \"action\": mt5.TRADE_ACTION_DEAL,\n",
    "    \"symbol\": symbol,\n",
    "    \"volume\": lot,\n",
    "    \"type\": mt5.ORDER_TYPE_BUY,\n",
    "    \"price\": price,\n",
    "    \"magic\": 234000,\n",
    "    \"desviation\": desviation,\n",
    "    \"comment\": \"prython script open\",\n",
    "    \"type_time\":mt5.ORDER_TIME_GTC,\n",
    "    'type_filling':mt5.ORDER_FILLING_RETURN,\n",
    "    \n",
    "          }"
   ]
  },
  {
   "cell_type": "code",
   "execution_count": 56,
   "metadata": {},
   "outputs": [],
   "source": [
    "#preparando a ordem de venda \n",
    "lot = 100.0\n",
    "point = mt5.symbol_info(symbol).point\n",
    "price=mt5.symbol_info_tick(symbol).bid\n",
    "desviation = 1\n",
    "request2={\n",
    "    \"action\": mt5.TRADE_ACTION_DEAL,\n",
    "    \"symbol\": symbol,\n",
    "    \"volume\": lot,\n",
    "    \"type\": mt5.ORDER_TYPE_SELL,\n",
    "    \"price\": price,\n",
    "    \n",
    "    \"deviation\": desviation,\n",
    "    \"magic\": 234000,\n",
    "    \"comment\": \"python script close\",\n",
    "    \"type_time\": mt5.ORDER_TIME_GTC,\n",
    "    \"type_filling\": mt5.ORDER_FILLING_RETURN,\n",
    "}"
   ]
  },
  {
   "cell_type": "code",
   "execution_count": null,
   "metadata": {},
   "outputs": [],
   "source": [
    "#ENVIO de Ordem buy, APENAS UM TESTE PARA SABER SE A COMUNICAÇÃO ENTRE PYTHON E MT5 ESTÁ CORRETA...\n",
    "result = mt5.order_send(request)\n",
    "#verificando a resultado da execulção \n",
    "print(f'1. Ordem enviada:{lot} de {symbol} ao preço de {price} com desvio de {desviation}',end  = '\\r')"
   ]
  },
  {
   "cell_type": "code",
   "execution_count": null,
   "metadata": {},
   "outputs": [
    {
     "name": "stdout",
     "output_type": "stream",
     "text": [
      "ITUB4 - ultimo valor: 25.48, Topo do Book C: 25.48,Topo do Book V: 25.49 False\r"
     ]
    }
   ],
   "source": [
    "# EXECULÇÃO DO BOT PIVOTPOINT \n",
    "# ANTES DE EXECUTAR ESSA CELULA CERTIFIQUE QUE NENHUMA ORDEM ESTEJA ABERTA.\n",
    "\n",
    "tempo = time.time() + 18000\n",
    "while time.time() < tempo:\n",
    "    ativo = (get_ohlc('ITUB4', mt5.TIMEFRAME_M5))\n",
    "    tick = mt5.symbol_info_tick('ITUB4')\n",
    "    print (f'ITUB4 - ultimo valor: {tick.last}, Topo do Book C: {tick.bid},Topo do Book V: {tick.ask}', tick.last>ativo['Pivot'][-1 -1], end  = '\\r')\n",
    "    if tick.last> ativo['Pivot'][-1 -1]:\n",
    "        if mt5.positions_get(symbol=\"ITUB4\") == () or mt5.positions_get(symbol=\"ITUB4\")[0][5] == 1:\n",
    "            #enviadno ordem de compra \n",
    "            result = mt5.order_send(request)\n",
    "            print(f'1. Ordem COMPRA enviada:{lot} de {symbol} ao preço de {price} com desvio de {desviation}',end  = '\\r')\n",
    "\n",
    "    if tick.last <ativo['S1'][-1 -1]:\n",
    "        \n",
    "        if mt5.positions_get(symbol=\"ITUB4\") == () or mt5.positions_get(symbol=\"ITUB4\")[0][5] == 0:\n",
    "            #enviadno ordem de venda \n",
    "            result = mt5.order_send(request2)\n",
    "        #verificando a resultado da execulção \n",
    "            print(f'1. Ordem VENDA enviada: {lot} de {symbol} ao preço de {price} com desvio de {desviation}',end  = '\\r')\n",
    "        \n",
    "    time.sleep(0.5)"
   ]
  },
  {
   "cell_type": "code",
   "execution_count": null,
   "metadata": {},
   "outputs": [],
   "source": []
  },
  {
   "cell_type": "code",
   "execution_count": null,
   "metadata": {},
   "outputs": [],
   "source": []
  }
 ],
 "metadata": {
  "kernelspec": {
   "display_name": "Python 3 (ipykernel)",
   "language": "python",
   "name": "python3"
  },
  "language_info": {
   "codemirror_mode": {
    "name": "ipython",
    "version": 3
   },
   "file_extension": ".py",
   "mimetype": "text/x-python",
   "name": "python",
   "nbconvert_exporter": "python",
   "pygments_lexer": "ipython3",
   "version": "3.10.9"
  }
 },
 "nbformat": 4,
 "nbformat_minor": 4
}
